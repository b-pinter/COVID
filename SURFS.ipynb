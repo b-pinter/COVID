{
 "cells": [
  {
   "cell_type": "code",
   "execution_count": 1,
   "id": "42468304-46b3-491c-b99c-720b48a481bf",
   "metadata": {},
   "outputs": [],
   "source": [
    "import numpy as np\n",
    "import seaborn as sns\n",
    "import pandas as pd\n",
    "from matplotlib import pyplot as plt\n",
    "import pandas as pd\n",
    "from matplotlib.pyplot import subplots\n",
    "import statsmodels.api as sm\n",
    "from ISLP import load_data\n",
    "from ISLP.models import (ModelSpec as MS,\n",
    "                         summarize,\n",
    "                         poly)\n",
    "from ISLP import confusion_table\n",
    "from sklearn.model_selection import train_test_split\n",
    "from sklearn.metrics import accuracy_score\n",
    "from ISLP.models import sklearn_sm\n",
    "from sklearn.model_selection import \\\n",
    "     (cross_validate,\n",
    "      KFold,\n",
    "      ShuffleSplit)\n",
    "from sklearn.preprocessing import scale\n",
    "from sklearn.linear_model import Ridge, RidgeCV, Lasso, LassoCV\n",
    "from sklearn.metrics import mean_squared_error\n",
    "from sklearn.metrics import explained_variance_score\n",
    "from sklearn.preprocessing import StandardScaler"
   ]
  },
  {
   "cell_type": "code",
   "execution_count": 2,
   "id": "7614b27a-bb1a-4e9b-9eae-fab036e3db04",
   "metadata": {},
   "outputs": [],
   "source": [
    "#Cleaning/Placing all Data together"
   ]
  },
  {
   "cell_type": "code",
   "execution_count": 3,
   "id": "eb289ca3-01a3-4356-b347-d36999eac4aa",
   "metadata": {},
   "outputs": [],
   "source": [
    "df_health = pd.read_csv('https://raw.githubusercontent.com/b-pinter/COVID/main/data-QOKUW.csv')\n",
    "df_income = pd.read_csv('https://raw.githubusercontent.com/b-pinter/COVID/main/average-income-by-state-2024.csv')\n",
    "df_deaths = pd.read_csv('https://raw.githubusercontent.com/b-pinter/Spring-2024-Research/main/deaths_total.csv')\n",
    "df_density = pd.read_csv('https://raw.githubusercontent.com/b-pinter/Spring-2024-Research/main/united-states-by-density-2024.csv')\n",
    "df_total_population = pd.read_csv('https://raw.githubusercontent.com/b-pinter/Spring-2024-Research/main/State_Populations.csv')\n",
    "df_poverty = pd.read_csv('https://raw.githubusercontent.com/b-pinter/Spring-2024-Research/main/Percentage-in-Poverty.csv')"
   ]
  },
  {
   "cell_type": "code",
   "execution_count": 4,
   "id": "08a0c70f-7b1e-403c-9b5e-85ddf22b0586",
   "metadata": {},
   "outputs": [],
   "source": [
    "test_1 = df_deaths.drop('Unnamed: 0',axis = 1)\n",
    "test_2 = df_deaths.drop('Unnamed: 3', axis = 1)\n",
    "df_deaths = test_2.drop('Unnamed: 4',axis = 1)"
   ]
  },
  {
   "cell_type": "code",
   "execution_count": 5,
   "id": "9ba89aa5-1ecc-4c51-983a-4e0e8721fb21",
   "metadata": {},
   "outputs": [],
   "source": [
    "df_master = df_deaths.merge(df_health, on = 'State')\n",
    "df_master = df_master.merge(df_income, on = 'State')\n",
    "df_master = df_master.merge(df_density, on = 'State')\n",
    "df_master = df_master.merge(df_total_population, on = 'State')\n",
    "df_master = df_master.merge(df_poverty, on = 'State')"
   ]
  },
  {
   "cell_type": "code",
   "execution_count": 6,
   "id": "689385c6-102b-485d-a7a3-ef317c4edba2",
   "metadata": {},
   "outputs": [
    {
     "data": {
      "text/html": [
       "<div>\n",
       "<style scoped>\n",
       "    .dataframe tbody tr th:only-of-type {\n",
       "        vertical-align: middle;\n",
       "    }\n",
       "\n",
       "    .dataframe tbody tr th {\n",
       "        vertical-align: top;\n",
       "    }\n",
       "\n",
       "    .dataframe thead th {\n",
       "        text-align: right;\n",
       "    }\n",
       "</style>\n",
       "<table border=\"1\" class=\"dataframe\">\n",
       "  <thead>\n",
       "    <tr style=\"text-align: right;\">\n",
       "      <th></th>\n",
       "      <th>Unnamed: 0</th>\n",
       "      <th>State</th>\n",
       "      <th>Deaths</th>\n",
       "      <th>Rank</th>\n",
       "      <th>Disease Risk Factors &amp; Prevalence Score¹</th>\n",
       "      <th>Substance Abuse Score²</th>\n",
       "      <th>Lifestyle Habits &amp; Health Outlook Score³</th>\n",
       "      <th>Overall Score</th>\n",
       "      <th>AverageIncomePerCapita2022</th>\n",
       "      <th>AverageIncomePerCapita2021</th>\n",
       "      <th>densityMi</th>\n",
       "      <th>population</th>\n",
       "      <th>TotalArea</th>\n",
       "      <th>Pop. 2022</th>\n",
       "      <th>PercentInPoverty</th>\n",
       "    </tr>\n",
       "  </thead>\n",
       "  <tbody>\n",
       "    <tr>\n",
       "      <th>0</th>\n",
       "      <td>NaN</td>\n",
       "      <td>California</td>\n",
       "      <td>101159</td>\n",
       "      <td>38</td>\n",
       "      <td>27.91</td>\n",
       "      <td>56.15</td>\n",
       "      <td>2.13</td>\n",
       "      <td>30.74</td>\n",
       "      <td>77339.0</td>\n",
       "      <td>76800.0</td>\n",
       "      <td>249.64706</td>\n",
       "      <td>38889770.0</td>\n",
       "      <td>163696.0</td>\n",
       "      <td>39029342</td>\n",
       "      <td>12.3</td>\n",
       "    </tr>\n",
       "    <tr>\n",
       "      <th>1</th>\n",
       "      <td>NaN</td>\n",
       "      <td>Texas</td>\n",
       "      <td>93390</td>\n",
       "      <td>24</td>\n",
       "      <td>54.10</td>\n",
       "      <td>0.00</td>\n",
       "      <td>51.02</td>\n",
       "      <td>45.76</td>\n",
       "      <td>61985.0</td>\n",
       "      <td>59802.0</td>\n",
       "      <td>118.57948</td>\n",
       "      <td>30976754.0</td>\n",
       "      <td>268596.0</td>\n",
       "      <td>30029572</td>\n",
       "      <td>14.2</td>\n",
       "    </tr>\n",
       "    <tr>\n",
       "      <th>2</th>\n",
       "      <td>NaN</td>\n",
       "      <td>Florida</td>\n",
       "      <td>86850</td>\n",
       "      <td>39</td>\n",
       "      <td>25.24</td>\n",
       "      <td>33.78</td>\n",
       "      <td>32.00</td>\n",
       "      <td>29.35</td>\n",
       "      <td>63597.0</td>\n",
       "      <td>62136.0</td>\n",
       "      <td>428.45559</td>\n",
       "      <td>22975931.0</td>\n",
       "      <td>65758.0</td>\n",
       "      <td>22244823</td>\n",
       "      <td>13.2</td>\n",
       "    </tr>\n",
       "    <tr>\n",
       "      <th>3</th>\n",
       "      <td>NaN</td>\n",
       "      <td>New York</td>\n",
       "      <td>77157</td>\n",
       "      <td>41</td>\n",
       "      <td>15.32</td>\n",
       "      <td>47.49</td>\n",
       "      <td>19.27</td>\n",
       "      <td>23.04</td>\n",
       "      <td>78089.0</td>\n",
       "      <td>76753.0</td>\n",
       "      <td>413.13143</td>\n",
       "      <td>19469232.0</td>\n",
       "      <td>54555.0</td>\n",
       "      <td>19677151</td>\n",
       "      <td>14.0</td>\n",
       "    </tr>\n",
       "    <tr>\n",
       "      <th>4</th>\n",
       "      <td>NaN</td>\n",
       "      <td>Pennsylvania</td>\n",
       "      <td>50398</td>\n",
       "      <td>26</td>\n",
       "      <td>33.76</td>\n",
       "      <td>53.82</td>\n",
       "      <td>49.02</td>\n",
       "      <td>42.97</td>\n",
       "      <td>65167.0</td>\n",
       "      <td>64042.0</td>\n",
       "      <td>289.45925</td>\n",
       "      <td>12951275.0</td>\n",
       "      <td>46054.0</td>\n",
       "      <td>12972008</td>\n",
       "      <td>12.0</td>\n",
       "    </tr>\n",
       "  </tbody>\n",
       "</table>\n",
       "</div>"
      ],
      "text/plain": [
       "   Unnamed: 0         State  Deaths  Rank  \\\n",
       "0         NaN    California  101159    38   \n",
       "1         NaN         Texas   93390    24   \n",
       "2         NaN       Florida   86850    39   \n",
       "3         NaN      New York   77157    41   \n",
       "4         NaN  Pennsylvania   50398    26   \n",
       "\n",
       "   Disease Risk Factors & Prevalence Score¹  Substance Abuse Score²  \\\n",
       "0                                     27.91                   56.15   \n",
       "1                                     54.10                    0.00   \n",
       "2                                     25.24                   33.78   \n",
       "3                                     15.32                   47.49   \n",
       "4                                     33.76                   53.82   \n",
       "\n",
       "   Lifestyle Habits & Health Outlook Score³  Overall Score  \\\n",
       "0                                      2.13          30.74   \n",
       "1                                     51.02          45.76   \n",
       "2                                     32.00          29.35   \n",
       "3                                     19.27          23.04   \n",
       "4                                     49.02          42.97   \n",
       "\n",
       "   AverageIncomePerCapita2022  AverageIncomePerCapita2021  densityMi  \\\n",
       "0                     77339.0                     76800.0  249.64706   \n",
       "1                     61985.0                     59802.0  118.57948   \n",
       "2                     63597.0                     62136.0  428.45559   \n",
       "3                     78089.0                     76753.0  413.13143   \n",
       "4                     65167.0                     64042.0  289.45925   \n",
       "\n",
       "   population  TotalArea  Pop. 2022  PercentInPoverty  \n",
       "0  38889770.0   163696.0   39029342              12.3  \n",
       "1  30976754.0   268596.0   30029572              14.2  \n",
       "2  22975931.0    65758.0   22244823              13.2  \n",
       "3  19469232.0    54555.0   19677151              14.0  \n",
       "4  12951275.0    46054.0   12972008              12.0  "
      ]
     },
     "execution_count": 6,
     "metadata": {},
     "output_type": "execute_result"
    }
   ],
   "source": [
    "df_master.head()"
   ]
  },
  {
   "cell_type": "code",
   "execution_count": 7,
   "id": "f8055ca2-b0a1-41a3-ab97-d1aa19c9931a",
   "metadata": {},
   "outputs": [],
   "source": [
    "df_master.drop(['Unnamed: 0','population','TotalArea','AverageIncomePerCapita2021','Rank'],axis=1,inplace=True)"
   ]
  },
  {
   "cell_type": "code",
   "execution_count": 8,
   "id": "6ef530f5-56c1-427c-89e0-fdb7baa11b66",
   "metadata": {},
   "outputs": [],
   "source": [
    "df_master['Deaths Per Capita'] = df_master['Deaths']/df_master['Pop. 2022']\n",
    "numerical_deaths = pd.to_numeric(df_master['Deaths'])\n",
    "df_master['Deaths'] = numerical_deaths"
   ]
  },
  {
   "cell_type": "code",
   "execution_count": 9,
   "id": "a959269e-e726-4ebc-9ee2-cf34fd759e65",
   "metadata": {},
   "outputs": [
    {
     "data": {
      "text/html": [
       "<div>\n",
       "<style scoped>\n",
       "    .dataframe tbody tr th:only-of-type {\n",
       "        vertical-align: middle;\n",
       "    }\n",
       "\n",
       "    .dataframe tbody tr th {\n",
       "        vertical-align: top;\n",
       "    }\n",
       "\n",
       "    .dataframe thead th {\n",
       "        text-align: right;\n",
       "    }\n",
       "</style>\n",
       "<table border=\"1\" class=\"dataframe\">\n",
       "  <thead>\n",
       "    <tr style=\"text-align: right;\">\n",
       "      <th></th>\n",
       "      <th>State</th>\n",
       "      <th>Deaths</th>\n",
       "      <th>Disease Risk Factors &amp; Prevalence Score¹</th>\n",
       "      <th>Substance Abuse Score²</th>\n",
       "      <th>Lifestyle Habits &amp; Health Outlook Score³</th>\n",
       "      <th>Overall Score</th>\n",
       "      <th>AverageIncomePerCapita2022</th>\n",
       "      <th>densityMi</th>\n",
       "      <th>Pop. 2022</th>\n",
       "      <th>PercentInPoverty</th>\n",
       "      <th>Deaths Per Capita</th>\n",
       "    </tr>\n",
       "  </thead>\n",
       "  <tbody>\n",
       "    <tr>\n",
       "      <th>0</th>\n",
       "      <td>California</td>\n",
       "      <td>101159</td>\n",
       "      <td>27.91</td>\n",
       "      <td>56.15</td>\n",
       "      <td>2.13</td>\n",
       "      <td>30.74</td>\n",
       "      <td>77339.0</td>\n",
       "      <td>249.64706</td>\n",
       "      <td>39029342</td>\n",
       "      <td>12.3</td>\n",
       "      <td>0.002592</td>\n",
       "    </tr>\n",
       "    <tr>\n",
       "      <th>1</th>\n",
       "      <td>Texas</td>\n",
       "      <td>93390</td>\n",
       "      <td>54.10</td>\n",
       "      <td>0.00</td>\n",
       "      <td>51.02</td>\n",
       "      <td>45.76</td>\n",
       "      <td>61985.0</td>\n",
       "      <td>118.57948</td>\n",
       "      <td>30029572</td>\n",
       "      <td>14.2</td>\n",
       "      <td>0.003110</td>\n",
       "    </tr>\n",
       "    <tr>\n",
       "      <th>2</th>\n",
       "      <td>Florida</td>\n",
       "      <td>86850</td>\n",
       "      <td>25.24</td>\n",
       "      <td>33.78</td>\n",
       "      <td>32.00</td>\n",
       "      <td>29.35</td>\n",
       "      <td>63597.0</td>\n",
       "      <td>428.45559</td>\n",
       "      <td>22244823</td>\n",
       "      <td>13.2</td>\n",
       "      <td>0.003904</td>\n",
       "    </tr>\n",
       "    <tr>\n",
       "      <th>3</th>\n",
       "      <td>New York</td>\n",
       "      <td>77157</td>\n",
       "      <td>15.32</td>\n",
       "      <td>47.49</td>\n",
       "      <td>19.27</td>\n",
       "      <td>23.04</td>\n",
       "      <td>78089.0</td>\n",
       "      <td>413.13143</td>\n",
       "      <td>19677151</td>\n",
       "      <td>14.0</td>\n",
       "      <td>0.003921</td>\n",
       "    </tr>\n",
       "    <tr>\n",
       "      <th>4</th>\n",
       "      <td>Pennsylvania</td>\n",
       "      <td>50398</td>\n",
       "      <td>33.76</td>\n",
       "      <td>53.82</td>\n",
       "      <td>49.02</td>\n",
       "      <td>42.97</td>\n",
       "      <td>65167.0</td>\n",
       "      <td>289.45925</td>\n",
       "      <td>12972008</td>\n",
       "      <td>12.0</td>\n",
       "      <td>0.003885</td>\n",
       "    </tr>\n",
       "  </tbody>\n",
       "</table>\n",
       "</div>"
      ],
      "text/plain": [
       "          State  Deaths  Disease Risk Factors & Prevalence Score¹  \\\n",
       "0    California  101159                                     27.91   \n",
       "1         Texas   93390                                     54.10   \n",
       "2       Florida   86850                                     25.24   \n",
       "3      New York   77157                                     15.32   \n",
       "4  Pennsylvania   50398                                     33.76   \n",
       "\n",
       "   Substance Abuse Score²  Lifestyle Habits & Health Outlook Score³  \\\n",
       "0                   56.15                                      2.13   \n",
       "1                    0.00                                     51.02   \n",
       "2                   33.78                                     32.00   \n",
       "3                   47.49                                     19.27   \n",
       "4                   53.82                                     49.02   \n",
       "\n",
       "   Overall Score  AverageIncomePerCapita2022  densityMi  Pop. 2022  \\\n",
       "0          30.74                     77339.0  249.64706   39029342   \n",
       "1          45.76                     61985.0  118.57948   30029572   \n",
       "2          29.35                     63597.0  428.45559   22244823   \n",
       "3          23.04                     78089.0  413.13143   19677151   \n",
       "4          42.97                     65167.0  289.45925   12972008   \n",
       "\n",
       "   PercentInPoverty  Deaths Per Capita  \n",
       "0              12.3           0.002592  \n",
       "1              14.2           0.003110  \n",
       "2              13.2           0.003904  \n",
       "3              14.0           0.003921  \n",
       "4              12.0           0.003885  "
      ]
     },
     "execution_count": 9,
     "metadata": {},
     "output_type": "execute_result"
    }
   ],
   "source": [
    "df_master.head()"
   ]
  },
  {
   "cell_type": "code",
   "execution_count": 10,
   "id": "b97ff3cf-9ec4-4696-adb5-363684629f9e",
   "metadata": {},
   "outputs": [
    {
     "data": {
      "text/plain": [
       "Index(['State', 'Deaths', 'Disease Risk Factors & Prevalence Score¹',\n",
       "       'Substance Abuse Score²', 'Lifestyle Habits & Health Outlook Score³',\n",
       "       'Overall Score', 'AverageIncomePerCapita2022', 'densityMi', 'Pop. 2022',\n",
       "       'PercentInPoverty', 'Deaths Per Capita'],\n",
       "      dtype='object')"
      ]
     },
     "execution_count": 10,
     "metadata": {},
     "output_type": "execute_result"
    }
   ],
   "source": [
    "df_master.columns"
   ]
  },
  {
   "cell_type": "code",
   "execution_count": 11,
   "id": "011a0707-5db8-4518-9df3-585525826b91",
   "metadata": {},
   "outputs": [
    {
     "data": {
      "text/html": [
       "<div>\n",
       "<style scoped>\n",
       "    .dataframe tbody tr th:only-of-type {\n",
       "        vertical-align: middle;\n",
       "    }\n",
       "\n",
       "    .dataframe tbody tr th {\n",
       "        vertical-align: top;\n",
       "    }\n",
       "\n",
       "    .dataframe thead th {\n",
       "        text-align: right;\n",
       "    }\n",
       "</style>\n",
       "<table border=\"1\" class=\"dataframe\">\n",
       "  <thead>\n",
       "    <tr style=\"text-align: right;\">\n",
       "      <th></th>\n",
       "      <th>coef</th>\n",
       "      <th>std err</th>\n",
       "      <th>t</th>\n",
       "      <th>P&gt;|t|</th>\n",
       "    </tr>\n",
       "  </thead>\n",
       "  <tbody>\n",
       "    <tr>\n",
       "      <th>Overall Score</th>\n",
       "      <td>1.695000e-05</td>\n",
       "      <td>7.570000e-06</td>\n",
       "      <td>2.239</td>\n",
       "      <td>0.033</td>\n",
       "    </tr>\n",
       "    <tr>\n",
       "      <th>AverageIncomePerCapita2022</th>\n",
       "      <td>7.886000e-09</td>\n",
       "      <td>7.340000e-09</td>\n",
       "      <td>1.074</td>\n",
       "      <td>0.292</td>\n",
       "    </tr>\n",
       "    <tr>\n",
       "      <th>densityMi</th>\n",
       "      <td>8.977000e-07</td>\n",
       "      <td>3.460000e-07</td>\n",
       "      <td>2.596</td>\n",
       "      <td>0.015</td>\n",
       "    </tr>\n",
       "    <tr>\n",
       "      <th>Pop. 2022</th>\n",
       "      <td>-1.892000e-12</td>\n",
       "      <td>1.270000e-11</td>\n",
       "      <td>-0.149</td>\n",
       "      <td>0.882</td>\n",
       "    </tr>\n",
       "    <tr>\n",
       "      <th>PercentInPoverty</th>\n",
       "      <td>1.000000e-04</td>\n",
       "      <td>6.230000e-05</td>\n",
       "      <td>2.360</td>\n",
       "      <td>0.025</td>\n",
       "    </tr>\n",
       "  </tbody>\n",
       "</table>\n",
       "</div>"
      ],
      "text/plain": [
       "                                    coef       std err      t  P>|t|\n",
       "Overall Score               1.695000e-05  7.570000e-06  2.239  0.033\n",
       "AverageIncomePerCapita2022  7.886000e-09  7.340000e-09  1.074  0.292\n",
       "densityMi                   8.977000e-07  3.460000e-07  2.596  0.015\n",
       "Pop. 2022                  -1.892000e-12  1.270000e-11 -0.149  0.882\n",
       "PercentInPoverty            1.000000e-04  6.230000e-05  2.360  0.025"
      ]
     },
     "execution_count": 11,
     "metadata": {},
     "output_type": "execute_result"
    }
   ],
   "source": [
    "#Fig. 2\n",
    "#Least Squares Model - US National\n",
    "X, Y = df_master.drop(columns = ['Deaths Per Capita','State','Disease Risk Factors & Prevalence Score¹',\n",
    "                                'Substance Abuse Score²','Lifestyle Habits & Health Outlook Score³','Deaths']), df_master['Deaths Per Capita']\n",
    "(X_train,\n",
    " X_test,\n",
    " y_train,\n",
    " y_test) = train_test_split(X,\n",
    "                            Y,\n",
    "                            test_size=0.3)\n",
    "#Fig. 3\n",
    "model = sm.OLS(y_train, X_train)\n",
    "results = model.fit()\n",
    "summarize(results)"
   ]
  },
  {
   "cell_type": "code",
   "execution_count": 12,
   "id": "33744ab0-755b-474c-aab1-019d2b4e8440",
   "metadata": {},
   "outputs": [
    {
     "data": {
      "text/plain": [
       "0.9743256590896086"
      ]
     },
     "execution_count": 12,
     "metadata": {},
     "output_type": "execute_result"
    }
   ],
   "source": [
    "#Fig. 4\n",
    "results.rsquared"
   ]
  },
  {
   "cell_type": "code",
   "execution_count": 13,
   "id": "225765a7-b54a-425f-a033-cc5d98a2e37b",
   "metadata": {},
   "outputs": [],
   "source": [
    "#Creation of a Ridge Regression with prediction for Deaths Per Capita\n",
    "scaler = StandardScaler(with_mean=True,\n",
    "                        with_std=True,\n",
    "                        copy=True)\n",
    "scaler.fit(X)\n",
    "X_scale = scaler.transform(X)\n",
    "\n",
    "(X_train,\n",
    " X_test,\n",
    " y_train,\n",
    " y_test) = train_test_split(np.asarray(X_scale),\n",
    "                            Y,\n",
    "                            test_size=0.3)\n",
    "alphas = 10**np.linspace(10,-2,100)*0.5"
   ]
  },
  {
   "cell_type": "code",
   "execution_count": 14,
   "id": "7981d755-037e-4c75-9f7e-5427b866ee5f",
   "metadata": {},
   "outputs": [
    {
     "data": {
      "text/plain": [
       "array([5.00000000e+09, 3.78231664e+09, 2.86118383e+09, 2.16438064e+09,\n",
       "       1.63727458e+09, 1.23853818e+09, 9.36908711e+08, 7.08737081e+08,\n",
       "       5.36133611e+08, 4.05565415e+08, 3.06795364e+08, 2.32079442e+08,\n",
       "       1.75559587e+08, 1.32804389e+08, 1.00461650e+08, 7.59955541e+07,\n",
       "       5.74878498e+07, 4.34874501e+07, 3.28966612e+07, 2.48851178e+07,\n",
       "       1.88246790e+07, 1.42401793e+07, 1.07721735e+07, 8.14875417e+06,\n",
       "       6.16423370e+06, 4.66301673e+06, 3.52740116e+06, 2.66834962e+06,\n",
       "       2.01850863e+06, 1.52692775e+06, 1.15506485e+06, 8.73764200e+05,\n",
       "       6.60970574e+05, 5.00000000e+05, 3.78231664e+05, 2.86118383e+05,\n",
       "       2.16438064e+05, 1.63727458e+05, 1.23853818e+05, 9.36908711e+04,\n",
       "       7.08737081e+04, 5.36133611e+04, 4.05565415e+04, 3.06795364e+04,\n",
       "       2.32079442e+04, 1.75559587e+04, 1.32804389e+04, 1.00461650e+04,\n",
       "       7.59955541e+03, 5.74878498e+03, 4.34874501e+03, 3.28966612e+03,\n",
       "       2.48851178e+03, 1.88246790e+03, 1.42401793e+03, 1.07721735e+03,\n",
       "       8.14875417e+02, 6.16423370e+02, 4.66301673e+02, 3.52740116e+02,\n",
       "       2.66834962e+02, 2.01850863e+02, 1.52692775e+02, 1.15506485e+02,\n",
       "       8.73764200e+01, 6.60970574e+01, 5.00000000e+01, 3.78231664e+01,\n",
       "       2.86118383e+01, 2.16438064e+01, 1.63727458e+01, 1.23853818e+01,\n",
       "       9.36908711e+00, 7.08737081e+00, 5.36133611e+00, 4.05565415e+00,\n",
       "       3.06795364e+00, 2.32079442e+00, 1.75559587e+00, 1.32804389e+00,\n",
       "       1.00461650e+00, 7.59955541e-01, 5.74878498e-01, 4.34874501e-01,\n",
       "       3.28966612e-01, 2.48851178e-01, 1.88246790e-01, 1.42401793e-01,\n",
       "       1.07721735e-01, 8.14875417e-02, 6.16423370e-02, 4.66301673e-02,\n",
       "       3.52740116e-02, 2.66834962e-02, 2.01850863e-02, 1.52692775e-02,\n",
       "       1.15506485e-02, 8.73764200e-03, 6.60970574e-03, 5.00000000e-03])"
      ]
     },
     "execution_count": 14,
     "metadata": {},
     "output_type": "execute_result"
    }
   ],
   "source": [
    "alphas"
   ]
  },
  {
   "cell_type": "code",
   "execution_count": 15,
   "id": "cbae7bfc-6368-4a62-8a0c-883c08358d6c",
   "metadata": {},
   "outputs": [],
   "source": [
    "#US National Ridge Regression\n",
    "ridge = Ridge()\n",
    "coefs = []\n",
    "MSEs = []\n",
    "\n",
    "for a in alphas:\n",
    "    ridge.set_params(alpha = a)\n",
    "    ridge.fit(X_train, y_train)\n",
    "    coefs.append(ridge.coef_)\n",
    "    pred = ridge.predict(X_test)\n",
    "    MSEs.append(mean_squared_error(y_test, pred))"
   ]
  },
  {
   "cell_type": "code",
   "execution_count": 16,
   "id": "932417f7-d35e-4c90-a04d-737575891582",
   "metadata": {},
   "outputs": [
    {
     "data": {
      "text/plain": [
       "Text(0, 0.5, 'MSE')"
      ]
     },
     "execution_count": 16,
     "metadata": {},
     "output_type": "execute_result"
    },
    {
     "data": {
      "image/png": "[encoded data removed]",
      "text/plain": [
       "<Figure size 432x288 with 1 Axes>"
      ]
     },
     "metadata": {
      "needs_background": "light"
     },
     "output_type": "display_data"
    }
   ],
   "source": [
    "plt.plot(alphas, MSEs)\n",
    "plt.xscale('log')\n",
    "plt.axis('tight')\n",
    "plt.xlabel('alpha')\n",
    "plt.ylabel('MSE')"
   ]
  },
  {
   "cell_type": "code",
   "execution_count": 17,
   "id": "55b39cf7-0073-476c-9627-4bc09c0a0b64",
   "metadata": {},
   "outputs": [
    {
     "name": "stdout",
     "output_type": "stream",
     "text": [
      "7.087370814634009\n"
     ]
    }
   ],
   "source": [
    "ridgecv = RidgeCV(alphas = alphas, scoring = 'neg_mean_squared_error')\n",
    "ridgecv.fit(X_scale, Y)\n",
    "print(ridgecv.alpha_)"
   ]
  },
  {
   "cell_type": "code",
   "execution_count": 18,
   "id": "56d2a14d-0f0c-4f71-8581-893bd45fa362",
   "metadata": {},
   "outputs": [
    {
     "data": {
      "text/plain": [
       "-3.4112482247144366e-07"
      ]
     },
     "execution_count": 18,
     "metadata": {},
     "output_type": "execute_result"
    }
   ],
   "source": [
    "best_score = ridgecv.best_score_\n",
    "best_score"
   ]
  },
  {
   "cell_type": "code",
   "execution_count": 19,
   "id": "a0300711-0aba-4f04-8575-dc1f547d2da9",
   "metadata": {},
   "outputs": [
    {
     "name": "stdout",
     "output_type": "stream",
     "text": [
      "0.6208476863994257\n"
     ]
    }
   ],
   "source": [
    "#R-Squared Score for National Model\n",
    "print(ridgecv.score(X_scale,Y))"
   ]
  },
  {
   "cell_type": "code",
   "execution_count": 20,
   "id": "2a0c2c17-429a-4ff7-aeea-74b3451dce6a",
   "metadata": {},
   "outputs": [
    {
     "data": {
      "text/plain": [
       "<matplotlib.legend.Legend at 0x7fde4abb60d0>"
      ]
     },
     "execution_count": 20,
     "metadata": {},
     "output_type": "execute_result"
    },
    {
     "data": {
      "image/png": "[encoded data removed]",
      "text/plain": [
       "<Figure size 432x288 with 1 Axes>"
      ]
     },
     "metadata": {
      "needs_background": "light"
     },
     "output_type": "display_data"
    }
   ],
   "source": [
    "plt.plot(alphas, coefs, label = X.columns)\n",
    "plt.xscale('log')\n",
    "plt.axis('tight')\n",
    "plt.xlabel('alpha')\n",
    "plt.ylabel('weights')\n",
    "plt.legend(bbox_to_anchor=(1.1, 1.05))"
   ]
  },
  {
   "cell_type": "code",
   "execution_count": 21,
   "id": "658d4d9d-0d70-4822-acd0-ccead157ef9f",
   "metadata": {},
   "outputs": [],
   "source": [
    "Northeast = [\"Connecticut\", \"Maine\", \"Massachusetts\", \"New Hampshire\", \"Rhode Island\", \"Vermont\", \"New Jersey\", \"New York\", \"Pennsylvania\",\"Delaware\",\"Maryland\"]\n",
    "Midwest = [\"Illinois\", \"Indiana\", \"Iowa\", \"Michigan\", \"Minnesota\", \"Missouri\", \"Nebraska\", \"North Dakota\", \"Ohio\", \"South Dakota\", \"Wisconsin\"]\n",
    "South =  [\"Alabama\", \"Arkansas\",  \"Florida\", \"Georgia\", \"Kentucky\", \"Louisiana\", \"Mississippi\", \"North Carolina\", \"Oklahoma\", \"South Carolina\", \"Tennessee\", \"Texas\", \"Virginia\", \"West Virginia\"]\n",
    "West = [\"Alaska\", \"Arizona\", \"California\", \"Colorado\", \"Hawaii\", \"Idaho\", \"Montana\", \"Nevada\", \"New Mexico\", \"Oregon\", \"Utah\", \"Washington\", \"Wyoming\"]"
   ]
  },
  {
   "cell_type": "code",
   "execution_count": 22,
   "id": "41eb878d-7839-4f91-8fd2-84a740bbe640",
   "metadata": {},
   "outputs": [],
   "source": [
    "#Fig. 1\n",
    "df_northeast = df_master[df_master['State'].isin(Northeast)]\n",
    "df_midwest = df_master[df_master['State'].isin(Midwest)]\n",
    "df_south = df_master[df_master['State'].isin(South)]\n",
    "df_west = df_master[df_master['State'].isin(West)]"
   ]
  },
  {
   "cell_type": "code",
   "execution_count": 23,
   "id": "b9964169-ab1d-4683-873c-eaef913090f1",
   "metadata": {},
   "outputs": [],
   "source": [
    "#Bootstraping\n",
    "df_northeast = df_master.sample(n = 50, replace = True)\n",
    "df_midwest = df_master.sample(n = 50, replace = True)\n",
    "df_south = df_master.sample(n = 50, replace = True)\n",
    "df_west = df_master.sample(n = 50, replace = True)"
   ]
  },
  {
   "cell_type": "code",
   "execution_count": 24,
   "id": "0eb3c699-9aba-4da5-ab1d-d04d81e74550",
   "metadata": {},
   "outputs": [
    {
     "data": {
      "text/html": [
       "<div>\n",
       "<style scoped>\n",
       "    .dataframe tbody tr th:only-of-type {\n",
       "        vertical-align: middle;\n",
       "    }\n",
       "\n",
       "    .dataframe tbody tr th {\n",
       "        vertical-align: top;\n",
       "    }\n",
       "\n",
       "    .dataframe thead th {\n",
       "        text-align: right;\n",
       "    }\n",
       "</style>\n",
       "<table border=\"1\" class=\"dataframe\">\n",
       "  <thead>\n",
       "    <tr style=\"text-align: right;\">\n",
       "      <th></th>\n",
       "      <th>coef</th>\n",
       "      <th>std err</th>\n",
       "      <th>t</th>\n",
       "      <th>P&gt;|t|</th>\n",
       "    </tr>\n",
       "  </thead>\n",
       "  <tbody>\n",
       "    <tr>\n",
       "      <th>Overall Score</th>\n",
       "      <td>7.230000e-06</td>\n",
       "      <td>6.430000e-06</td>\n",
       "      <td>1.124</td>\n",
       "      <td>0.270</td>\n",
       "    </tr>\n",
       "    <tr>\n",
       "      <th>AverageIncomePerCapita2022</th>\n",
       "      <td>5.774000e-09</td>\n",
       "      <td>5.990000e-09</td>\n",
       "      <td>0.964</td>\n",
       "      <td>0.343</td>\n",
       "    </tr>\n",
       "    <tr>\n",
       "      <th>densityMi</th>\n",
       "      <td>5.901000e-07</td>\n",
       "      <td>5.230000e-07</td>\n",
       "      <td>1.128</td>\n",
       "      <td>0.268</td>\n",
       "    </tr>\n",
       "    <tr>\n",
       "      <th>Pop. 2022</th>\n",
       "      <td>-1.249000e-11</td>\n",
       "      <td>1.960000e-11</td>\n",
       "      <td>-0.636</td>\n",
       "      <td>0.529</td>\n",
       "    </tr>\n",
       "    <tr>\n",
       "      <th>PercentInPoverty</th>\n",
       "      <td>2.000000e-04</td>\n",
       "      <td>5.160000e-05</td>\n",
       "      <td>3.898</td>\n",
       "      <td>0.001</td>\n",
       "    </tr>\n",
       "  </tbody>\n",
       "</table>\n",
       "</div>"
      ],
      "text/plain": [
       "                                    coef       std err      t  P>|t|\n",
       "Overall Score               7.230000e-06  6.430000e-06  1.124  0.270\n",
       "AverageIncomePerCapita2022  5.774000e-09  5.990000e-09  0.964  0.343\n",
       "densityMi                   5.901000e-07  5.230000e-07  1.128  0.268\n",
       "Pop. 2022                  -1.249000e-11  1.960000e-11 -0.636  0.529\n",
       "PercentInPoverty            2.000000e-04  5.160000e-05  3.898  0.001"
      ]
     },
     "execution_count": 24,
     "metadata": {},
     "output_type": "execute_result"
    }
   ],
   "source": [
    "#Northeast Least Squares Model and Ridge Regression\n",
    "X1, Y1 = df_northeast.drop(columns = ['Deaths Per Capita','State','Disease Risk Factors & Prevalence Score¹',\n",
    "                                'Substance Abuse Score²','Lifestyle Habits & Health Outlook Score³','Deaths']), df_northeast['Deaths Per Capita']\n",
    "(X_train1,\n",
    " X_test1,\n",
    " y_train1,\n",
    " y_test1) = train_test_split(X1,\n",
    "                            Y1,\n",
    "                            test_size=0.3)\n",
    "model = sm.OLS(y_train1, X_train1)\n",
    "results2 = model.fit()\n",
    "summarize(results2)\n",
    "#Northeast Least Squares"
   ]
  },
  {
   "cell_type": "code",
   "execution_count": 25,
   "id": "8009580a-b058-492b-ac5f-589dd0bd080d",
   "metadata": {},
   "outputs": [
    {
     "data": {
      "text/plain": [
       "0.9877117164146335"
      ]
     },
     "execution_count": 25,
     "metadata": {},
     "output_type": "execute_result"
    }
   ],
   "source": [
    "#Northeast R-Squared\n",
    "results2.rsquared"
   ]
  },
  {
   "cell_type": "code",
   "execution_count": 26,
   "id": "62894d1f-c186-445a-aa97-4bcdf17166e5",
   "metadata": {},
   "outputs": [],
   "source": [
    "scaler = StandardScaler(with_mean=True,\n",
    "                        with_std=True,\n",
    "                        copy=True)\n",
    "scaler.fit(X1)\n",
    "X_scale1 = scaler.transform(X1)\n",
    "\n",
    "(X_train1,\n",
    " X_test1,\n",
    " y_train1,\n",
    " y_test1) = train_test_split(np.asarray(X_scale1),\n",
    "                            Y1,\n",
    "                            test_size=0.3)"
   ]
  },
  {
   "cell_type": "code",
   "execution_count": 27,
   "id": "c79ede6e-0a8b-4f11-9820-af61b7da1f01",
   "metadata": {
    "tags": []
   },
   "outputs": [],
   "source": [
    "ridge = Ridge()\n",
    "coefs = []\n",
    "MSEs = []\n",
    "\n",
    "for a in alphas:\n",
    "    ridge.set_params(alpha = a)\n",
    "    ridge.fit(X_train1, y_train1)\n",
    "    coefs.append(ridge.coef_)\n",
    "    pred1 = ridge.predict(X_test1)\n",
    "    MSEs.append(mean_squared_error(y_test1, pred1))"
   ]
  },
  {
   "cell_type": "code",
   "execution_count": 28,
   "id": "496d6959-7499-478b-afb2-04fe012371e5",
   "metadata": {
    "tags": []
   },
   "outputs": [
    {
     "data": {
      "text/plain": [
       "<matplotlib.legend.Legend at 0x7fde380a2d30>"
      ]
     },
     "execution_count": 28,
     "metadata": {},
     "output_type": "execute_result"
    },
    {
     "data": {
      "image/png": "[encoded data removed]",
      "text/plain": [
       "<Figure size 432x288 with 1 Axes>"
      ]
     },
     "metadata": {
      "needs_background": "light"
     },
     "output_type": "display_data"
    }
   ],
   "source": [
    "plt.plot(alphas, coefs, label = X1.columns)\n",
    "plt.xscale('log')\n",
    "plt.axis('tight')\n",
    "plt.xlabel('alpha')\n",
    "plt.ylabel('weights')\n",
    "plt.legend(bbox_to_anchor=(1.1, 1.05))"
   ]
  },
  {
   "cell_type": "code",
   "execution_count": 29,
   "id": "566f9ee2-8f86-4ef9-b65b-f017dca416c9",
   "metadata": {
    "tags": []
   },
   "outputs": [
    {
     "name": "stdout",
     "output_type": "stream",
     "text": [
      "2.320794416806386\n"
     ]
    }
   ],
   "source": [
    "ridgecv = RidgeCV(alphas = alphas, scoring = 'neg_mean_squared_error')\n",
    "ridgecv.fit(X_scale1, Y1)\n",
    "print(ridgecv.alpha_)"
   ]
  },
  {
   "cell_type": "code",
   "execution_count": 30,
   "id": "3145f9ae-5c0e-4df0-8eb0-80e654fe837d",
   "metadata": {},
   "outputs": [
    {
     "name": "stdout",
     "output_type": "stream",
     "text": [
      "0.7426688107879996\n"
     ]
    }
   ],
   "source": [
    "print(ridgecv.score(X_scale1,Y1))"
   ]
  },
  {
   "cell_type": "code",
   "execution_count": null,
   "id": "ecf6c42d-894f-42c4-8265-f25bf1becf2f",
   "metadata": {},
   "outputs": [],
   "source": []
  },
  {
   "cell_type": "code",
   "execution_count": 31,
   "id": "1dbb5551-0f4b-475e-83dd-b012783bb852",
   "metadata": {},
   "outputs": [
    {
     "data": {
      "text/html": [
       "<div>\n",
       "<style scoped>\n",
       "    .dataframe tbody tr th:only-of-type {\n",
       "        vertical-align: middle;\n",
       "    }\n",
       "\n",
       "    .dataframe tbody tr th {\n",
       "        vertical-align: top;\n",
       "    }\n",
       "\n",
       "    .dataframe thead th {\n",
       "        text-align: right;\n",
       "    }\n",
       "</style>\n",
       "<table border=\"1\" class=\"dataframe\">\n",
       "  <thead>\n",
       "    <tr style=\"text-align: right;\">\n",
       "      <th></th>\n",
       "      <th>coef</th>\n",
       "      <th>std err</th>\n",
       "      <th>t</th>\n",
       "      <th>P&gt;|t|</th>\n",
       "    </tr>\n",
       "  </thead>\n",
       "  <tbody>\n",
       "    <tr>\n",
       "      <th>Overall Score</th>\n",
       "      <td>1.047000e-05</td>\n",
       "      <td>5.200000e-06</td>\n",
       "      <td>2.013</td>\n",
       "      <td>0.053</td>\n",
       "    </tr>\n",
       "    <tr>\n",
       "      <th>AverageIncomePerCapita2022</th>\n",
       "      <td>4.739000e-09</td>\n",
       "      <td>4.390000e-09</td>\n",
       "      <td>1.079</td>\n",
       "      <td>0.289</td>\n",
       "    </tr>\n",
       "    <tr>\n",
       "      <th>densityMi</th>\n",
       "      <td>4.835000e-07</td>\n",
       "      <td>3.840000e-07</td>\n",
       "      <td>1.260</td>\n",
       "      <td>0.217</td>\n",
       "    </tr>\n",
       "    <tr>\n",
       "      <th>Pop. 2022</th>\n",
       "      <td>-1.767000e-11</td>\n",
       "      <td>1.350000e-11</td>\n",
       "      <td>-1.305</td>\n",
       "      <td>0.202</td>\n",
       "    </tr>\n",
       "    <tr>\n",
       "      <th>PercentInPoverty</th>\n",
       "      <td>2.000000e-04</td>\n",
       "      <td>3.320000e-05</td>\n",
       "      <td>5.626</td>\n",
       "      <td>0.000</td>\n",
       "    </tr>\n",
       "  </tbody>\n",
       "</table>\n",
       "</div>"
      ],
      "text/plain": [
       "                                    coef       std err      t  P>|t|\n",
       "Overall Score               1.047000e-05  5.200000e-06  2.013  0.053\n",
       "AverageIncomePerCapita2022  4.739000e-09  4.390000e-09  1.079  0.289\n",
       "densityMi                   4.835000e-07  3.840000e-07  1.260  0.217\n",
       "Pop. 2022                  -1.767000e-11  1.350000e-11 -1.305  0.202\n",
       "PercentInPoverty            2.000000e-04  3.320000e-05  5.626  0.000"
      ]
     },
     "execution_count": 31,
     "metadata": {},
     "output_type": "execute_result"
    }
   ],
   "source": [
    "#Midwest Lease Squares Regression and Ridge Regression\n",
    "X2, Y2 = df_midwest.drop(columns = ['Deaths Per Capita','State','Disease Risk Factors & Prevalence Score¹',\n",
    "                                'Substance Abuse Score²','Lifestyle Habits & Health Outlook Score³','Deaths']), df_midwest['Deaths Per Capita']\n",
    "(X_train2,\n",
    " X_test2,\n",
    " y_train2,\n",
    " y_test2) = train_test_split(X2,\n",
    "                            Y2,\n",
    "                            test_size=0.3)\n",
    "model = sm.OLS(y_train2, X_train2)\n",
    "results3 = model.fit()\n",
    "summarize(results3)\n",
    "#Midwest Least Squares"
   ]
  },
  {
   "cell_type": "code",
   "execution_count": 32,
   "id": "1671474b-96a0-4dd9-83b0-449caf2e6d3e",
   "metadata": {},
   "outputs": [
    {
     "data": {
      "text/plain": [
       "0.9869796609267927"
      ]
     },
     "execution_count": 32,
     "metadata": {},
     "output_type": "execute_result"
    }
   ],
   "source": [
    "#Midwest R-Squared\n",
    "results3.rsquared"
   ]
  },
  {
   "cell_type": "code",
   "execution_count": 33,
   "id": "1f0d06f1-edef-4449-b3fe-f4d87c787f88",
   "metadata": {},
   "outputs": [],
   "source": [
    "scaler = StandardScaler(with_mean=True,\n",
    "                        with_std=True,\n",
    "                        copy=True)\n",
    "scaler.fit(X2)\n",
    "X_scale2 = scaler.transform(X2)\n",
    "\n",
    "(X_train2,\n",
    " X_test2,\n",
    " y_train2,\n",
    " y_test2) = train_test_split(np.asarray(X_scale2),\n",
    "                            Y2,\n",
    "                            test_size=0.3)"
   ]
  },
  {
   "cell_type": "code",
   "execution_count": 34,
   "id": "d88e2fb7-9ca4-4162-865f-ad1b9280e1c5",
   "metadata": {},
   "outputs": [],
   "source": [
    "ridge = Ridge()\n",
    "coefs = []\n",
    "MSEs = []\n",
    "\n",
    "for a in alphas:\n",
    "    ridge.set_params(alpha = a)\n",
    "    ridge.fit(X_train2, y_train2)\n",
    "    coefs.append(ridge.coef_)\n",
    "    pred2 = ridge.predict(X_test2)\n",
    "    MSEs.append(mean_squared_error(y_test2, pred2))"
   ]
  },
  {
   "cell_type": "code",
   "execution_count": 35,
   "id": "fb1a5659-ecea-4039-b99d-434820fe3a74",
   "metadata": {},
   "outputs": [
    {
     "data": {
      "text/plain": [
       "<matplotlib.legend.Legend at 0x7fde4ad9ba00>"
      ]
     },
     "execution_count": 35,
     "metadata": {},
     "output_type": "execute_result"
    },
    {
     "data": {
      "image/png": "[encoded data removed]",
      "text/plain": [
       "<Figure size 432x288 with 1 Axes>"
      ]
     },
     "metadata": {
      "needs_background": "light"
     },
     "output_type": "display_data"
    }
   ],
   "source": [
    "plt.plot(alphas, coefs, label = X2.columns)\n",
    "plt.xscale('log')\n",
    "plt.axis('tight')\n",
    "plt.xlabel('alpha')\n",
    "plt.ylabel('weights')\n",
    "plt.legend(bbox_to_anchor=(1.1, 1.05))"
   ]
  },
  {
   "cell_type": "code",
   "execution_count": 36,
   "id": "bcd21771-173b-40ac-9332-5fa311323f06",
   "metadata": {},
   "outputs": [
    {
     "name": "stdout",
     "output_type": "stream",
     "text": [
      "2.320794416806386\n"
     ]
    }
   ],
   "source": [
    "ridgecv = RidgeCV(alphas = alphas, scoring = 'neg_mean_squared_error')\n",
    "ridgecv.fit(X_scale2, Y2)\n",
    "print(ridgecv.alpha_)"
   ]
  },
  {
   "cell_type": "code",
   "execution_count": 37,
   "id": "74f43752-f1da-43b9-adbb-7f76d28ed939",
   "metadata": {},
   "outputs": [
    {
     "name": "stdout",
     "output_type": "stream",
     "text": [
      "0.7912364826268725\n"
     ]
    }
   ],
   "source": [
    "print(ridgecv.score(X_scale2,Y2))"
   ]
  },
  {
   "cell_type": "code",
   "execution_count": 38,
   "id": "8c834cf9-2e11-4c4b-b54d-57e41e173491",
   "metadata": {},
   "outputs": [
    {
     "data": {
      "text/html": [
       "<div>\n",
       "<style scoped>\n",
       "    .dataframe tbody tr th:only-of-type {\n",
       "        vertical-align: middle;\n",
       "    }\n",
       "\n",
       "    .dataframe tbody tr th {\n",
       "        vertical-align: top;\n",
       "    }\n",
       "\n",
       "    .dataframe thead th {\n",
       "        text-align: right;\n",
       "    }\n",
       "</style>\n",
       "<table border=\"1\" class=\"dataframe\">\n",
       "  <thead>\n",
       "    <tr style=\"text-align: right;\">\n",
       "      <th></th>\n",
       "      <th>coef</th>\n",
       "      <th>std err</th>\n",
       "      <th>t</th>\n",
       "      <th>P&gt;|t|</th>\n",
       "    </tr>\n",
       "  </thead>\n",
       "  <tbody>\n",
       "    <tr>\n",
       "      <th>Overall Score</th>\n",
       "      <td>1.666000e-05</td>\n",
       "      <td>5.190000e-06</td>\n",
       "      <td>3.208</td>\n",
       "      <td>0.003</td>\n",
       "    </tr>\n",
       "    <tr>\n",
       "      <th>AverageIncomePerCapita2022</th>\n",
       "      <td>7.634000e-09</td>\n",
       "      <td>7.560000e-09</td>\n",
       "      <td>1.009</td>\n",
       "      <td>0.321</td>\n",
       "    </tr>\n",
       "    <tr>\n",
       "      <th>densityMi</th>\n",
       "      <td>8.521000e-07</td>\n",
       "      <td>5.230000e-07</td>\n",
       "      <td>1.630</td>\n",
       "      <td>0.114</td>\n",
       "    </tr>\n",
       "    <tr>\n",
       "      <th>Pop. 2022</th>\n",
       "      <td>-7.604000e-12</td>\n",
       "      <td>1.700000e-11</td>\n",
       "      <td>-0.447</td>\n",
       "      <td>0.658</td>\n",
       "    </tr>\n",
       "    <tr>\n",
       "      <th>PercentInPoverty</th>\n",
       "      <td>1.000000e-04</td>\n",
       "      <td>4.300000e-05</td>\n",
       "      <td>3.346</td>\n",
       "      <td>0.002</td>\n",
       "    </tr>\n",
       "  </tbody>\n",
       "</table>\n",
       "</div>"
      ],
      "text/plain": [
       "                                    coef       std err      t  P>|t|\n",
       "Overall Score               1.666000e-05  5.190000e-06  3.208  0.003\n",
       "AverageIncomePerCapita2022  7.634000e-09  7.560000e-09  1.009  0.321\n",
       "densityMi                   8.521000e-07  5.230000e-07  1.630  0.114\n",
       "Pop. 2022                  -7.604000e-12  1.700000e-11 -0.447  0.658\n",
       "PercentInPoverty            1.000000e-04  4.300000e-05  3.346  0.002"
      ]
     },
     "execution_count": 38,
     "metadata": {},
     "output_type": "execute_result"
    }
   ],
   "source": [
    "#South Lease Squares Regression and Ridge Regression\n",
    "X3, Y3 = df_south.drop(columns = ['Deaths Per Capita','State','Disease Risk Factors & Prevalence Score¹',\n",
    "                                'Substance Abuse Score²','Lifestyle Habits & Health Outlook Score³','Deaths']), df_south['Deaths Per Capita']\n",
    "(X_train3,\n",
    " X_test3,\n",
    " y_train3,\n",
    " y_test3) = train_test_split(X3,\n",
    "                            Y3,\n",
    "                            test_size=0.3)\n",
    "model = sm.OLS(y_train3, X_train3)\n",
    "results4 = model.fit()\n",
    "summarize(results4)\n",
    "#Southern US Least Squares"
   ]
  },
  {
   "cell_type": "code",
   "execution_count": 39,
   "id": "317e184b-3c80-4776-89af-e2f80bb25bdb",
   "metadata": {},
   "outputs": [
    {
     "data": {
      "text/plain": [
       "0.9843772153742959"
      ]
     },
     "execution_count": 39,
     "metadata": {},
     "output_type": "execute_result"
    }
   ],
   "source": [
    "#Southern US R-Squared\n",
    "results4.rsquared"
   ]
  },
  {
   "cell_type": "code",
   "execution_count": 40,
   "id": "7c90f77a-2c3f-41b4-8ee0-6badb832146c",
   "metadata": {},
   "outputs": [],
   "source": [
    "scaler = StandardScaler(with_mean=True,\n",
    "                        with_std=True,\n",
    "                        copy=True)\n",
    "scaler.fit(X3)\n",
    "X_scale3 = scaler.transform(X3)\n",
    "\n",
    "(X_train3,\n",
    " X_test3,\n",
    " y_train3,\n",
    " y_test3) = train_test_split(np.asarray(X_scale3),\n",
    "                            Y3,\n",
    "                            test_size=0.3)"
   ]
  },
  {
   "cell_type": "code",
   "execution_count": 41,
   "id": "faeb442b-d6b3-40a1-9ef5-a4b8a5d65165",
   "metadata": {},
   "outputs": [],
   "source": [
    "ridge = Ridge()\n",
    "coefs = []\n",
    "MSEs = []\n",
    "\n",
    "for a in alphas:\n",
    "    ridge.set_params(alpha = a)\n",
    "    ridge.fit(X_train3, y_train3)\n",
    "    coefs.append(ridge.coef_)\n",
    "    pred3 = ridge.predict(X_test3)\n",
    "    MSEs.append(mean_squared_error(y_test3, pred3))"
   ]
  },
  {
   "cell_type": "code",
   "execution_count": 42,
   "id": "188a98fa-55e6-4c23-8119-1e6fb077055d",
   "metadata": {},
   "outputs": [
    {
     "data": {
      "text/plain": [
       "<matplotlib.legend.Legend at 0x7fde4ae44af0>"
      ]
     },
     "execution_count": 42,
     "metadata": {},
     "output_type": "execute_result"
    },
    {
     "data": {
      "image/png": "[encoded data removed]",
      "text/plain": [
       "<Figure size 432x288 with 1 Axes>"
      ]
     },
     "metadata": {
      "needs_background": "light"
     },
     "output_type": "display_data"
    }
   ],
   "source": [
    "plt.plot(alphas, coefs, label = X3.columns)\n",
    "plt.xscale('log')\n",
    "plt.axis('tight')\n",
    "plt.xlabel('alpha')\n",
    "plt.ylabel('weights')\n",
    "plt.legend(bbox_to_anchor=(1.1, 1.05))"
   ]
  },
  {
   "cell_type": "code",
   "execution_count": 43,
   "id": "4ce5fc05-8d82-440e-854d-f55eb032ef86",
   "metadata": {},
   "outputs": [
    {
     "name": "stdout",
     "output_type": "stream",
     "text": [
      "2.320794416806386\n"
     ]
    }
   ],
   "source": [
    "ridgecv = RidgeCV(alphas = alphas, scoring = 'neg_mean_squared_error')\n",
    "ridgecv.fit(X_scale3, Y3)\n",
    "print(ridgecv.alpha_)"
   ]
  },
  {
   "cell_type": "code",
   "execution_count": 44,
   "id": "2062414a-acb7-4022-868f-aa695ef78930",
   "metadata": {},
   "outputs": [
    {
     "name": "stdout",
     "output_type": "stream",
     "text": [
      "0.7231170870512851\n"
     ]
    }
   ],
   "source": [
    "print(ridgecv.score(X_scale3,Y3))"
   ]
  },
  {
   "cell_type": "code",
   "execution_count": 45,
   "id": "b1265be0-51bb-4071-b593-1730fd031322",
   "metadata": {},
   "outputs": [
    {
     "data": {
      "text/html": [
       "<div>\n",
       "<style scoped>\n",
       "    .dataframe tbody tr th:only-of-type {\n",
       "        vertical-align: middle;\n",
       "    }\n",
       "\n",
       "    .dataframe tbody tr th {\n",
       "        vertical-align: top;\n",
       "    }\n",
       "\n",
       "    .dataframe thead th {\n",
       "        text-align: right;\n",
       "    }\n",
       "</style>\n",
       "<table border=\"1\" class=\"dataframe\">\n",
       "  <thead>\n",
       "    <tr style=\"text-align: right;\">\n",
       "      <th></th>\n",
       "      <th>coef</th>\n",
       "      <th>std err</th>\n",
       "      <th>t</th>\n",
       "      <th>P&gt;|t|</th>\n",
       "    </tr>\n",
       "  </thead>\n",
       "  <tbody>\n",
       "    <tr>\n",
       "      <th>Overall Score</th>\n",
       "      <td>1.598000e-05</td>\n",
       "      <td>7.410000e-06</td>\n",
       "      <td>2.157</td>\n",
       "      <td>0.039</td>\n",
       "    </tr>\n",
       "    <tr>\n",
       "      <th>AverageIncomePerCapita2022</th>\n",
       "      <td>9.260000e-09</td>\n",
       "      <td>8.390000e-09</td>\n",
       "      <td>1.104</td>\n",
       "      <td>0.278</td>\n",
       "    </tr>\n",
       "    <tr>\n",
       "      <th>densityMi</th>\n",
       "      <td>8.966000e-07</td>\n",
       "      <td>4.060000e-07</td>\n",
       "      <td>2.210</td>\n",
       "      <td>0.035</td>\n",
       "    </tr>\n",
       "    <tr>\n",
       "      <th>Pop. 2022</th>\n",
       "      <td>-7.384000e-13</td>\n",
       "      <td>1.260000e-11</td>\n",
       "      <td>-0.059</td>\n",
       "      <td>0.953</td>\n",
       "    </tr>\n",
       "    <tr>\n",
       "      <th>PercentInPoverty</th>\n",
       "      <td>1.000000e-04</td>\n",
       "      <td>6.290000e-05</td>\n",
       "      <td>2.331</td>\n",
       "      <td>0.027</td>\n",
       "    </tr>\n",
       "  </tbody>\n",
       "</table>\n",
       "</div>"
      ],
      "text/plain": [
       "                                    coef       std err      t  P>|t|\n",
       "Overall Score               1.598000e-05  7.410000e-06  2.157  0.039\n",
       "AverageIncomePerCapita2022  9.260000e-09  8.390000e-09  1.104  0.278\n",
       "densityMi                   8.966000e-07  4.060000e-07  2.210  0.035\n",
       "Pop. 2022                  -7.384000e-13  1.260000e-11 -0.059  0.953\n",
       "PercentInPoverty            1.000000e-04  6.290000e-05  2.331  0.027"
      ]
     },
     "execution_count": 45,
     "metadata": {},
     "output_type": "execute_result"
    }
   ],
   "source": [
    "#West Lease Squares Regression and Ridge Regression\n",
    "X4, Y4 = df_west.drop(columns = ['Deaths Per Capita','State','Disease Risk Factors & Prevalence Score¹',\n",
    "                                'Substance Abuse Score²','Lifestyle Habits & Health Outlook Score³','Deaths']), df_west['Deaths Per Capita']\n",
    "(X_train4,\n",
    " X_test4,\n",
    " y_train4,\n",
    " y_test4) = train_test_split(X4,\n",
    "                            Y4,\n",
    "                            test_size=0.3)\n",
    "model = sm.OLS(y_train4, X_train4)\n",
    "results5 = model.fit()\n",
    "summarize(results5)\n",
    "#Western US Least Squares"
   ]
  },
  {
   "cell_type": "code",
   "execution_count": 46,
   "id": "2ac18501-7f51-4b71-8f22-4384b6de1e4d",
   "metadata": {},
   "outputs": [
    {
     "data": {
      "text/plain": [
       "0.9770855709513968"
      ]
     },
     "execution_count": 46,
     "metadata": {},
     "output_type": "execute_result"
    }
   ],
   "source": [
    "#Western US R-Squared\n",
    "results5.rsquared"
   ]
  },
  {
   "cell_type": "code",
   "execution_count": 47,
   "id": "c249ec67-fde5-4e68-9fb7-ab276c1d4745",
   "metadata": {},
   "outputs": [],
   "source": [
    "scaler = StandardScaler(with_mean=True,\n",
    "                        with_std=True,\n",
    "                        copy=True)\n",
    "scaler.fit(X4)\n",
    "X_scale4 = scaler.transform(X4)\n",
    "\n",
    "(X_train4,\n",
    " X_test4,\n",
    " y_train4,\n",
    " y_test4) = train_test_split(np.asarray(X_scale4),\n",
    "                            Y4,\n",
    "                            test_size=0.3)"
   ]
  },
  {
   "cell_type": "code",
   "execution_count": 48,
   "id": "a980a753-8ecc-4869-833b-d08b15cb79d8",
   "metadata": {},
   "outputs": [],
   "source": [
    "ridge = Ridge()\n",
    "coefs = []\n",
    "MSEs = []\n",
    "\n",
    "for a in alphas:\n",
    "    ridge.set_params(alpha = a)\n",
    "    ridge.fit(X_train4, y_train4)\n",
    "    coefs.append(ridge.coef_)\n",
    "    pred4 = ridge.predict(X_test4)\n",
    "    MSEs.append(mean_squared_error(y_test4, pred4))"
   ]
  },
  {
   "cell_type": "code",
   "execution_count": 49,
   "id": "2300dbc0-ed0b-44cf-b242-c9f1475a27d0",
   "metadata": {},
   "outputs": [
    {
     "data": {
      "text/plain": [
       "<matplotlib.legend.Legend at 0x7fde5a0098e0>"
      ]
     },
     "execution_count": 49,
     "metadata": {},
     "output_type": "execute_result"
    },
    {
     "data": {
      "image/png": "[encoded data removed]",
      "text/plain": [
       "<Figure size 432x288 with 1 Axes>"
      ]
     },
     "metadata": {
      "needs_background": "light"
     },
     "output_type": "display_data"
    }
   ],
   "source": [
    "plt.plot(alphas, coefs, label = X4.columns)\n",
    "plt.xscale('log')\n",
    "plt.axis('tight')\n",
    "plt.xlabel('alpha')\n",
    "plt.ylabel('weights')\n",
    "plt.legend(bbox_to_anchor=(1.1, 1.05))"
   ]
  },
  {
   "cell_type": "code",
   "execution_count": 50,
   "id": "f50ff02e-3d68-4467-b83d-c733bdf0d00c",
   "metadata": {},
   "outputs": [
    {
     "name": "stdout",
     "output_type": "stream",
     "text": [
      "7.087370814634009\n"
     ]
    }
   ],
   "source": [
    "ridgecv = RidgeCV(alphas = alphas, scoring = 'neg_mean_squared_error')\n",
    "ridgecv.fit(X_scale4, Y4)\n",
    "print(ridgecv.alpha_)"
   ]
  },
  {
   "cell_type": "code",
   "execution_count": 51,
   "id": "4a8e44bf-c9b6-4ada-9974-d6b8ba95b52d",
   "metadata": {},
   "outputs": [
    {
     "name": "stdout",
     "output_type": "stream",
     "text": [
      "0.6595459868761686\n"
     ]
    }
   ],
   "source": [
    "print(ridgecv.score(X_scale4,Y4))"
   ]
  },
  {
   "cell_type": "code",
   "execution_count": null,
   "id": "5a0403b5-36d3-4ba4-9da5-e997c9cabb8b",
   "metadata": {},
   "outputs": [],
   "source": []
  }
 ],
 "metadata": {
  "kernelspec": {
   "display_name": "Python 3 (ipykernel)",
   "language": "python",
   "name": "python3"
  },
  "language_info": {
   "codemirror_mode": {
    "name": "ipython",
    "version": 3
   },
   "file_extension": ".py",
   "mimetype": "text/x-python",
   "name": "python",
   "nbconvert_exporter": "python",
   "pygments_lexer": "ipython3",
   "version": "3.9.12"
  }
 },
 "nbformat": 4,
 "nbformat_minor": 5
}
